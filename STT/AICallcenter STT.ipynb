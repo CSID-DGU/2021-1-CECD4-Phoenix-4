{
 "cells": [
  {
   "cell_type": "code",
   "execution_count": 1,
   "metadata": {},
   "outputs": [
    {
     "name": "stdout",
     "output_type": "stream",
     "text": [
      "DEVICE: Microsoft Sound Mapper - Input  INDEX:  0  RATE:  44100 \n",
      "DEVICE: 마이크(4- USB Microphone)  INDEX:  1  RATE:  44100 \n",
      "DEVICE: 마이크(WO Mic Device)  INDEX:  2  RATE:  44100 \n",
      "DEVICE: 마이크(Realtek(R) Audio)  INDEX:  3  RATE:  44100 \n",
      "DEVICE: Microsoft Sound Mapper - Output  INDEX:  4  RATE:  44100 \n",
      "DEVICE: 스피커(Realtek(R) Audio)  INDEX:  5  RATE:  44100 \n",
      "DEVICE: 24B1W1(NVIDIA High Definition A  INDEX:  6  RATE:  44100 \n",
      "DEVICE: 마이크 (USB Microphone)  INDEX:  7  RATE:  32000 \n",
      "DEVICE: 라인 입력 (Realtek HD Audio Line input)  INDEX:  8  RATE:  44100 \n",
      "DEVICE: 마이크 (Realtek HD Audio Mic input)  INDEX:  9  RATE:  44100 \n",
      "DEVICE: 스테레오 믹스 (Realtek HD Audio Stereo input)  INDEX:  10  RATE:  44100 \n",
      "DEVICE: Headphones (Realtek HD Audio 2nd output)  INDEX:  11  RATE:  44100 \n",
      "DEVICE: Speakers (Realtek HD Audio output)  INDEX:  12  RATE:  44100 \n",
      "DEVICE: Output (NVIDIA High Definition Audio)  INDEX:  13  RATE:  44100 \n",
      "DEVICE: 마이크 (WO Mic Device)  INDEX:  14  RATE:  48000 \n"
     ]
    }
   ],
   "source": [
    "import json\n",
    "import requests\n",
    "\n",
    "import pyaudio\n",
    "import wave\n",
    "from array import array \n",
    "\n",
    "po = pyaudio.PyAudio()\n",
    "\n",
    "for index in range(po.get_device_count()): \n",
    "\n",
    "    desc = po.get_device_info_by_index(index)\n",
    "\n",
    "    #if desc[\"name\"] == \"record\":\n",
    "\n",
    "    print (\"DEVICE: %s  INDEX:  %s  RATE:  %s \" %  (desc[\"name\"], index,  int(desc[\"defaultSampleRate\"])))"
   ]
  },
  {
   "cell_type": "code",
   "execution_count": 5,
   "metadata": {},
   "outputs": [
    {
     "name": "stdout",
     "output_type": "stream",
     "text": [
      "recording...\n",
      "finished recording\n"
     ]
    }
   ],
   "source": [
    "FORMAT = pyaudio.paInt16\n",
    "CHANNELS = 1\n",
    "RATE = 16000\n",
    "CHUNK = 1024\n",
    "RECORD_SECONDS = 5\n",
    "WAVE_OUTPUT_FILENAME = \"file.wav\"\n",
    "\n",
    "audio = pyaudio.PyAudio()\n",
    "\n",
    "stream = audio.open(format=pyaudio.paInt16, \n",
    "\n",
    "                channels=CHANNELS, \n",
    "\n",
    "                rate=RATE, \n",
    "\n",
    "                input=True, \n",
    "\n",
    "                input_device_index=1,\n",
    "\n",
    "                frames_per_buffer=CHUNK)\n",
    "\n",
    "print (\"recording...\")\n",
    "\n",
    "frames = []\n",
    "\n",
    "count = 0\n",
    " \n",
    "\n",
    "while (True):\n",
    "\n",
    "    data = stream.read(CHUNK)\n",
    "\n",
    "    frames.append(data)\n",
    "    \n",
    "    vol = max(array('h', data))\n",
    "        \n",
    "    if vol < 10 and count > 50:\n",
    "        break\n",
    "    elif count <= 50:\n",
    "        count += 1\n",
    "    else:\n",
    "        count = 0\n",
    "\n",
    "print (\"finished recording\")\n",
    "\n",
    " \n",
    "\n",
    "# stop Recording\n",
    "\n",
    "stream.stop_stream()\n",
    "\n",
    "stream.close()\n",
    "\n",
    "audio.terminate()\n",
    "\n",
    " \n",
    "\n",
    "waveFile = wave.open(WAVE_OUTPUT_FILENAME, 'wb')\n",
    "\n",
    "waveFile.setnchannels(CHANNELS)\n",
    "\n",
    "waveFile.setsampwidth(audio.get_sample_size(FORMAT))\n",
    "\n",
    "waveFile.setframerate(RATE)\n",
    "\n",
    "waveFile.writeframes(b''.join(frames))\n",
    "\n",
    "waveFile.close()"
   ]
  },
  {
   "cell_type": "code",
   "execution_count": 6,
   "metadata": {},
   "outputs": [
    {
     "name": "stdout",
     "output_type": "stream",
     "text": [
      "{\"text\":\"녹음 중입니다 가 나타나 녹음 종료합니다\"}\n"
     ]
    }
   ],
   "source": [
    "data = open(\"file.wav\", \"rb\")\n",
    "\n",
    "Lang = \"Kor\"\n",
    "URL = \"https://naveropenapi.apigw.ntruss.com/recog/v1/stt?lang=\"+Lang\n",
    "\n",
    "ID = \"your_client_id\"\n",
    "Secret = \"your_secret\"\n",
    "\n",
    "headers = {\n",
    "    \"Content-Type\": \"application/octet-stream\",\n",
    "    \"X-NCP-APIGW-API-KEY-ID\": \"nnipcbtq8e\",\n",
    "    \"X-NCP-APIGW-API-KEY\": \"XQPmjCESijm9GLhGRD1ACMP5olsem7VdNL5Aw5Ge\",\n",
    "}\n",
    "\n",
    "response = requests.post(URL, data=data,headers=headers)\n",
    "rescode = response.status_code\n",
    "\n",
    "if(rescode == 200):\n",
    "    print (response.text)\n",
    "else:\n",
    "    print(\"Error : \" + response.text)"
   ]
  },
  {
   "cell_type": "code",
   "execution_count": null,
   "metadata": {},
   "outputs": [],
   "source": []
  }
 ],
 "metadata": {
  "kernelspec": {
   "display_name": "Python 3",
   "language": "python",
   "name": "python3"
  },
  "language_info": {
   "codemirror_mode": {
    "name": "ipython",
    "version": 3
   },
   "file_extension": ".py",
   "mimetype": "text/x-python",
   "name": "python",
   "nbconvert_exporter": "python",
   "pygments_lexer": "ipython3",
   "version": "3.8.5"
  }
 },
 "nbformat": 4,
 "nbformat_minor": 4
}
